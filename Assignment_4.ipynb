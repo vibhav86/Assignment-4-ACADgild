{
 "cells": [
  {
   "cell_type": "code",
   "execution_count": null,
   "metadata": {},
   "outputs": [],
   "source": [
    "Task 1"
   ]
  },
  {
   "cell_type": "code",
   "execution_count": 2,
   "metadata": {},
   "outputs": [],
   "source": [
    "import numpy as np\n",
    "def mov_avg(x,w):\n",
    "    for i in range(len(x)-w):\n",
    "        y=np.sum(x[i:i+w])\n",
    "        print(y/w)"
   ]
  },
  {
   "cell_type": "code",
   "execution_count": 3,
   "metadata": {},
   "outputs": [
    {
     "name": "stdout",
     "output_type": "stream",
     "text": [
      "4.0\n",
      "6.0\n",
      "4.5\n",
      "5.0\n",
      "9.0\n",
      "10.5\n",
      "38.0\n",
      "68.5\n",
      "76.5\n",
      "90.0\n",
      "99.5\n"
     ]
    }
   ],
   "source": [
    "x = [3, 5, 7, 2, 8, 10, 11, 65, 72, 81, 99, 100, 150]\n",
    "mov_avg(x,2)"
   ]
  },
  {
   "cell_type": "code",
   "execution_count": null,
   "metadata": {},
   "outputs": [],
   "source": [
    "Task 2_1"
   ]
  },
  {
   "cell_type": "code",
   "execution_count": 7,
   "metadata": {},
   "outputs": [
    {
     "name": "stdout",
     "output_type": "stream",
     "text": [
      "1\n",
      "2\n",
      "0\n",
      "1\n",
      "2\n",
      "3\n",
      "4\n",
      "0\n",
      "1\n",
      "2\n"
     ]
    }
   ],
   "source": [
    "import pandas as pd\n",
    "import pandas as pd\n",
    "l = [7, 2, 0, 3, 4, 2, 5, 0, 3, 4]\n",
    "i = 0\n",
    "r = []\n",
    "\n",
    "for element in l:\n",
    "    if element != 0:\n",
    "        i += 1\n",
    "    else:\n",
    "        i = 0\n",
    "    r.append(i)\n",
    "    print(i)"
   ]
  },
  {
   "cell_type": "code",
   "execution_count": null,
   "metadata": {},
   "outputs": [],
   "source": [
    "Task 2_2"
   ]
  },
  {
   "cell_type": "code",
   "execution_count": 9,
   "metadata": {},
   "outputs": [
    {
     "data": {
      "text/plain": [
       "2015-01-01    0.633602\n",
       "2015-01-02    0.831873\n",
       "2015-01-05    0.695718\n",
       "2015-01-06    0.969455\n",
       "2015-01-07    0.629951\n",
       "2015-01-08    0.093070\n",
       "2015-01-09    0.819676\n",
       "2015-01-12    0.530551\n",
       "2015-01-13    0.379528\n",
       "2015-01-14    0.198145\n",
       "2015-01-15    0.261796\n",
       "2015-01-16    0.160974\n",
       "2015-01-19    0.522546\n",
       "2015-01-20    0.778623\n",
       "2015-01-21    0.368060\n",
       "2015-01-22    0.089748\n",
       "2015-01-23    0.852188\n",
       "2015-01-26    0.801628\n",
       "2015-01-27    0.442693\n",
       "2015-01-28    0.778997\n",
       "2015-01-29    0.221626\n",
       "2015-01-30    0.436915\n",
       "2015-02-02    0.380111\n",
       "2015-02-03    0.610066\n",
       "2015-02-04    0.303615\n",
       "2015-02-05    0.333443\n",
       "2015-02-06    0.591522\n",
       "2015-02-09    0.502034\n",
       "2015-02-10    0.023973\n",
       "2015-02-11    0.921491\n",
       "                ...   \n",
       "2015-11-20    0.595475\n",
       "2015-11-23    0.719338\n",
       "2015-11-24    0.508441\n",
       "2015-11-25    0.867817\n",
       "2015-11-26    0.447185\n",
       "2015-11-27    0.402247\n",
       "2015-11-30    0.387009\n",
       "2015-12-01    0.302380\n",
       "2015-12-02    0.571747\n",
       "2015-12-03    0.065470\n",
       "2015-12-04    0.580885\n",
       "2015-12-07    0.914238\n",
       "2015-12-08    0.116879\n",
       "2015-12-09    0.757077\n",
       "2015-12-10    0.848641\n",
       "2015-12-11    0.991792\n",
       "2015-12-14    0.063527\n",
       "2015-12-15    0.805402\n",
       "2015-12-16    0.298408\n",
       "2015-12-17    0.940219\n",
       "2015-12-18    0.622753\n",
       "2015-12-21    0.104236\n",
       "2015-12-22    0.259480\n",
       "2015-12-23    0.868320\n",
       "2015-12-24    0.628825\n",
       "2015-12-25    0.779713\n",
       "2015-12-28    0.539365\n",
       "2015-12-29    0.145468\n",
       "2015-12-30    0.518139\n",
       "2015-12-31    0.024928\n",
       "Freq: B, Length: 261, dtype: float64"
      ]
     },
     "execution_count": 9,
     "metadata": {},
     "output_type": "execute_result"
    }
   ],
   "source": [
    "import numpy as np\n",
    "DateTime = pd.date_range(start='2015-01-01', end='2015-12-31', freq='B')\n",
    "s = pd.Series(np.random.rand(len(DateTime)), index=DateTime)\n",
    "s"
   ]
  },
  {
   "cell_type": "code",
   "execution_count": null,
   "metadata": {},
   "outputs": [],
   "source": [
    "Task 2_3"
   ]
  },
  {
   "cell_type": "code",
   "execution_count": 11,
   "metadata": {},
   "outputs": [
    {
     "data": {
      "text/plain": [
       "27.66663415601516"
      ]
     },
     "execution_count": 11,
     "metadata": {},
     "output_type": "execute_result"
    }
   ],
   "source": [
    "s[DateTime.weekday == 2].sum()"
   ]
  },
  {
   "cell_type": "code",
   "execution_count": null,
   "metadata": {},
   "outputs": [],
   "source": [
    "Task 2_4"
   ]
  },
  {
   "cell_type": "code",
   "execution_count": 12,
   "metadata": {},
   "outputs": [
    {
     "data": {
      "text/plain": [
       "2015-01-31    0.522607\n",
       "2015-02-28    0.563928\n",
       "2015-03-31    0.545848\n",
       "2015-04-30    0.435836\n",
       "2015-05-31    0.437842\n",
       "2015-06-30    0.497713\n",
       "2015-07-31    0.520964\n",
       "2015-08-31    0.345572\n",
       "2015-09-30    0.456219\n",
       "2015-10-31    0.617037\n",
       "2015-11-30    0.535610\n",
       "2015-12-31    0.510778\n",
       "Freq: M, dtype: float64"
      ]
     },
     "execution_count": 12,
     "metadata": {},
     "output_type": "execute_result"
    }
   ],
   "source": [
    "s.resample('M').mean()"
   ]
  },
  {
   "cell_type": "code",
   "execution_count": null,
   "metadata": {},
   "outputs": [],
   "source": []
  },
  {
   "cell_type": "code",
   "execution_count": null,
   "metadata": {},
   "outputs": [],
   "source": []
  },
  {
   "cell_type": "code",
   "execution_count": 22,
   "metadata": {},
   "outputs": [
    {
     "data": {
      "text/plain": [
       "2015-01-31   2015-01-06\n",
       "2015-05-31   2015-03-20\n",
       "2015-09-30   2015-07-28\n",
       "2016-01-31   2015-12-11\n",
       "dtype: datetime64[ns]"
      ]
     },
     "execution_count": 22,
     "metadata": {},
     "output_type": "execute_result"
    }
   ],
   "source": [
    "s.groupby(pd.Grouper(freq=\"4M\")).idxmax()"
   ]
  },
  {
   "cell_type": "code",
   "execution_count": null,
   "metadata": {},
   "outputs": [],
   "source": []
  }
 ],
 "metadata": {
  "kernelspec": {
   "display_name": "Python 3",
   "language": "python",
   "name": "python3"
  },
  "language_info": {
   "codemirror_mode": {
    "name": "ipython",
    "version": 3
   },
   "file_extension": ".py",
   "mimetype": "text/x-python",
   "name": "python",
   "nbconvert_exporter": "python",
   "pygments_lexer": "ipython3",
   "version": "3.6.4"
  }
 },
 "nbformat": 4,
 "nbformat_minor": 2
}
